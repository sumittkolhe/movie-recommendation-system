{
  "cells": [
    {
      "cell_type": "raw",
      "metadata": {
        "vscode": {
          "languageId": "raw"
        }
      },
      "source": [
        "# Movie Recommendation System with Interactive UI\n",
        "\n",
        "## Introduction\n",
        "\n",
        "This notebook implements a content-based movie recommendation system. Content-based filtering recommends items similar to those a user has liked in the past by analyzing the features of the items.\n",
        "\n",
        "In our case, we'll extract features from movie metadata (genres, keywords, cast, crew) to find movies with similar content. When a user selects a movie, the system will recommend other movies with similar characteristics.\n",
        "\n",
        "The recommendation process works as follows:\n",
        "1. Extract relevant features from movies\n",
        "2. Convert text features into vectors using NLP techniques\n",
        "3. Calculate similarity between movies using cosine similarity\n",
        "4. Recommend movies with highest similarity scores\n"
      ]
    },
    {
      "cell_type": "raw",
      "metadata": {
        "vscode": {
          "languageId": "raw"
        }
      },
      "source": [
        "## Import Required Libraries\n"
      ]
    },
    {
      "cell_type": "code",
      "execution_count": 1,
      "metadata": {},
      "outputs": [],
      "source": [
        "import numpy as np\n",
        "import pandas as pd\n",
        "from sklearn.feature_extraction.text import CountVectorizer\n",
        "from sklearn.metrics.pairwise import cosine_similarity\n",
        "import ast\n",
        "import ipywidgets as widgets\n",
        "from IPython.display import display, clear_output\n",
        "import matplotlib.pyplot as plt\n",
        "import pickle\n",
        "import warnings\n",
        "warnings.filterwarnings('ignore')\n"
      ]
    },
    {
      "cell_type": "raw",
      "metadata": {
        "vscode": {
          "languageId": "raw"
        }
      },
      "source": [
        "## Load Dataset\n",
        "\n",
        "We'll load the TMDB movie datasets containing movie details and credits information.\n"
      ]
    },
    {
      "cell_type": "code",
      "execution_count": 2,
      "metadata": {},
      "outputs": [
        {
          "name": "stdout",
          "output_type": "stream",
          "text": [
            "Movies dataset shape: (4803, 20)\n",
            "Credits dataset shape: (4803, 4)\n",
            "\n",
            "Movies dataset preview:\n"
          ]
        },
        {
          "data": {
            "text/html": [
              "<div>\n",
              "<style scoped>\n",
              "    .dataframe tbody tr th:only-of-type {\n",
              "        vertical-align: middle;\n",
              "    }\n",
              "\n",
              "    .dataframe tbody tr th {\n",
              "        vertical-align: top;\n",
              "    }\n",
              "\n",
              "    .dataframe thead th {\n",
              "        text-align: right;\n",
              "    }\n",
              "</style>\n",
              "<table border=\"1\" class=\"dataframe\">\n",
              "  <thead>\n",
              "    <tr style=\"text-align: right;\">\n",
              "      <th></th>\n",
              "      <th>budget</th>\n",
              "      <th>genres</th>\n",
              "      <th>homepage</th>\n",
              "      <th>id</th>\n",
              "      <th>keywords</th>\n",
              "      <th>original_language</th>\n",
              "      <th>original_title</th>\n",
              "      <th>overview</th>\n",
              "      <th>popularity</th>\n",
              "      <th>production_companies</th>\n",
              "      <th>production_countries</th>\n",
              "      <th>release_date</th>\n",
              "      <th>revenue</th>\n",
              "      <th>runtime</th>\n",
              "      <th>spoken_languages</th>\n",
              "      <th>status</th>\n",
              "      <th>tagline</th>\n",
              "      <th>title</th>\n",
              "      <th>vote_average</th>\n",
              "      <th>vote_count</th>\n",
              "    </tr>\n",
              "  </thead>\n",
              "  <tbody>\n",
              "    <tr>\n",
              "      <th>0</th>\n",
              "      <td>237000000</td>\n",
              "      <td>[{\"id\": 28, \"name\": \"Action\"}, {\"id\": 12, \"nam...</td>\n",
              "      <td>http://www.avatarmovie.com/</td>\n",
              "      <td>19995</td>\n",
              "      <td>[{\"id\": 1463, \"name\": \"culture clash\"}, {\"id\":...</td>\n",
              "      <td>en</td>\n",
              "      <td>Avatar</td>\n",
              "      <td>In the 22nd century, a paraplegic Marine is di...</td>\n",
              "      <td>150.437577</td>\n",
              "      <td>[{\"name\": \"Ingenious Film Partners\", \"id\": 289...</td>\n",
              "      <td>[{\"iso_3166_1\": \"US\", \"name\": \"United States o...</td>\n",
              "      <td>2009-12-10</td>\n",
              "      <td>2787965087</td>\n",
              "      <td>162.0</td>\n",
              "      <td>[{\"iso_639_1\": \"en\", \"name\": \"English\"}, {\"iso...</td>\n",
              "      <td>Released</td>\n",
              "      <td>Enter the World of Pandora.</td>\n",
              "      <td>Avatar</td>\n",
              "      <td>7.2</td>\n",
              "      <td>11800</td>\n",
              "    </tr>\n",
              "    <tr>\n",
              "      <th>1</th>\n",
              "      <td>300000000</td>\n",
              "      <td>[{\"id\": 12, \"name\": \"Adventure\"}, {\"id\": 14, \"...</td>\n",
              "      <td>http://disney.go.com/disneypictures/pirates/</td>\n",
              "      <td>285</td>\n",
              "      <td>[{\"id\": 270, \"name\": \"ocean\"}, {\"id\": 726, \"na...</td>\n",
              "      <td>en</td>\n",
              "      <td>Pirates of the Caribbean: At World's End</td>\n",
              "      <td>Captain Barbossa, long believed to be dead, ha...</td>\n",
              "      <td>139.082615</td>\n",
              "      <td>[{\"name\": \"Walt Disney Pictures\", \"id\": 2}, {\"...</td>\n",
              "      <td>[{\"iso_3166_1\": \"US\", \"name\": \"United States o...</td>\n",
              "      <td>2007-05-19</td>\n",
              "      <td>961000000</td>\n",
              "      <td>169.0</td>\n",
              "      <td>[{\"iso_639_1\": \"en\", \"name\": \"English\"}]</td>\n",
              "      <td>Released</td>\n",
              "      <td>At the end of the world, the adventure begins.</td>\n",
              "      <td>Pirates of the Caribbean: At World's End</td>\n",
              "      <td>6.9</td>\n",
              "      <td>4500</td>\n",
              "    </tr>\n",
              "  </tbody>\n",
              "</table>\n",
              "</div>"
            ],
            "text/plain": [
              "      budget                                             genres  \\\n",
              "0  237000000  [{\"id\": 28, \"name\": \"Action\"}, {\"id\": 12, \"nam...   \n",
              "1  300000000  [{\"id\": 12, \"name\": \"Adventure\"}, {\"id\": 14, \"...   \n",
              "\n",
              "                                       homepage     id  \\\n",
              "0                   http://www.avatarmovie.com/  19995   \n",
              "1  http://disney.go.com/disneypictures/pirates/    285   \n",
              "\n",
              "                                            keywords original_language  \\\n",
              "0  [{\"id\": 1463, \"name\": \"culture clash\"}, {\"id\":...                en   \n",
              "1  [{\"id\": 270, \"name\": \"ocean\"}, {\"id\": 726, \"na...                en   \n",
              "\n",
              "                             original_title  \\\n",
              "0                                    Avatar   \n",
              "1  Pirates of the Caribbean: At World's End   \n",
              "\n",
              "                                            overview  popularity  \\\n",
              "0  In the 22nd century, a paraplegic Marine is di...  150.437577   \n",
              "1  Captain Barbossa, long believed to be dead, ha...  139.082615   \n",
              "\n",
              "                                production_companies  \\\n",
              "0  [{\"name\": \"Ingenious Film Partners\", \"id\": 289...   \n",
              "1  [{\"name\": \"Walt Disney Pictures\", \"id\": 2}, {\"...   \n",
              "\n",
              "                                production_countries release_date     revenue  \\\n",
              "0  [{\"iso_3166_1\": \"US\", \"name\": \"United States o...   2009-12-10  2787965087   \n",
              "1  [{\"iso_3166_1\": \"US\", \"name\": \"United States o...   2007-05-19   961000000   \n",
              "\n",
              "   runtime                                   spoken_languages    status  \\\n",
              "0    162.0  [{\"iso_639_1\": \"en\", \"name\": \"English\"}, {\"iso...  Released   \n",
              "1    169.0           [{\"iso_639_1\": \"en\", \"name\": \"English\"}]  Released   \n",
              "\n",
              "                                          tagline  \\\n",
              "0                     Enter the World of Pandora.   \n",
              "1  At the end of the world, the adventure begins.   \n",
              "\n",
              "                                      title  vote_average  vote_count  \n",
              "0                                    Avatar           7.2       11800  \n",
              "1  Pirates of the Caribbean: At World's End           6.9        4500  "
            ]
          },
          "execution_count": 2,
          "metadata": {},
          "output_type": "execute_result"
        }
      ],
      "source": [
        "# Load the datasets\n",
        "movies = pd.read_csv('tmdb_5000_movies.csv')\n",
        "credits = pd.read_csv('tmdb_5000_credits.csv')\n",
        "\n",
        "# Display first few rows of each dataset\n",
        "print(\"Movies dataset shape:\", movies.shape)\n",
        "print(\"Credits dataset shape:\", credits.shape)\n",
        "\n",
        "print(\"\\nMovies dataset preview:\")\n",
        "movies.head(2)\n"
      ]
    },
    {
      "cell_type": "code",
      "execution_count": 3,
      "metadata": {},
      "outputs": [
        {
          "name": "stdout",
          "output_type": "stream",
          "text": [
            "Credits dataset preview:\n"
          ]
        },
        {
          "data": {
            "text/html": [
              "<div>\n",
              "<style scoped>\n",
              "    .dataframe tbody tr th:only-of-type {\n",
              "        vertical-align: middle;\n",
              "    }\n",
              "\n",
              "    .dataframe tbody tr th {\n",
              "        vertical-align: top;\n",
              "    }\n",
              "\n",
              "    .dataframe thead th {\n",
              "        text-align: right;\n",
              "    }\n",
              "</style>\n",
              "<table border=\"1\" class=\"dataframe\">\n",
              "  <thead>\n",
              "    <tr style=\"text-align: right;\">\n",
              "      <th></th>\n",
              "      <th>movie_id</th>\n",
              "      <th>title</th>\n",
              "      <th>cast</th>\n",
              "      <th>crew</th>\n",
              "    </tr>\n",
              "  </thead>\n",
              "  <tbody>\n",
              "    <tr>\n",
              "      <th>0</th>\n",
              "      <td>19995</td>\n",
              "      <td>Avatar</td>\n",
              "      <td>[{\"cast_id\": 242, \"character\": \"Jake Sully\", \"...</td>\n",
              "      <td>[{\"credit_id\": \"52fe48009251416c750aca23\", \"de...</td>\n",
              "    </tr>\n",
              "    <tr>\n",
              "      <th>1</th>\n",
              "      <td>285</td>\n",
              "      <td>Pirates of the Caribbean: At World's End</td>\n",
              "      <td>[{\"cast_id\": 4, \"character\": \"Captain Jack Spa...</td>\n",
              "      <td>[{\"credit_id\": \"52fe4232c3a36847f800b579\", \"de...</td>\n",
              "    </tr>\n",
              "  </tbody>\n",
              "</table>\n",
              "</div>"
            ],
            "text/plain": [
              "   movie_id                                     title  \\\n",
              "0     19995                                    Avatar   \n",
              "1       285  Pirates of the Caribbean: At World's End   \n",
              "\n",
              "                                                cast  \\\n",
              "0  [{\"cast_id\": 242, \"character\": \"Jake Sully\", \"...   \n",
              "1  [{\"cast_id\": 4, \"character\": \"Captain Jack Spa...   \n",
              "\n",
              "                                                crew  \n",
              "0  [{\"credit_id\": \"52fe48009251416c750aca23\", \"de...  \n",
              "1  [{\"credit_id\": \"52fe4232c3a36847f800b579\", \"de...  "
            ]
          },
          "execution_count": 3,
          "metadata": {},
          "output_type": "execute_result"
        }
      ],
      "source": [
        "print(\"Credits dataset preview:\")\n",
        "credits.head(2)\n"
      ]
    },
    {
      "cell_type": "raw",
      "metadata": {
        "vscode": {
          "languageId": "raw"
        }
      },
      "source": [
        "## Data Cleaning and Merging\n",
        "\n",
        "We'll merge the movies and credits datasets on the 'title' field. Then we'll clean the data by parsing the string representations of lists/dictionaries into Python objects.\n"
      ]
    },
    {
      "cell_type": "code",
      "execution_count": 4,
      "metadata": {},
      "outputs": [
        {
          "data": {
            "text/plain": [
              "Index(['movie_id', 'title', 'cast', 'crew'], dtype='object')"
            ]
          },
          "execution_count": 4,
          "metadata": {},
          "output_type": "execute_result"
        }
      ],
      "source": [
        "# Check column names in credits dataset\n",
        "credits.columns\n"
      ]
    },
    {
      "cell_type": "code",
      "execution_count": 5,
      "metadata": {},
      "outputs": [
        {
          "name": "stdout",
          "output_type": "stream",
          "text": [
            "Missing values in each column:\n"
          ]
        },
        {
          "data": {
            "text/plain": [
              "movie_id    0\n",
              "title       0\n",
              "overview    3\n",
              "genres      0\n",
              "keywords    0\n",
              "cast        0\n",
              "crew        0\n",
              "dtype: int64"
            ]
          },
          "execution_count": 5,
          "metadata": {},
          "output_type": "execute_result"
        }
      ],
      "source": [
        "# Merge datasets on 'title'\n",
        "movies = movies.merge(credits, on='title')\n",
        "\n",
        "# Select relevant columns\n",
        "movies = movies[['movie_id', 'title', 'overview', 'genres', 'keywords', 'cast', 'crew']]\n",
        "\n",
        "# Check for missing values\n",
        "print(\"Missing values in each column:\")\n",
        "movies.isnull().sum()\n"
      ]
    },
    {
      "cell_type": "code",
      "execution_count": 6,
      "metadata": {},
      "outputs": [
        {
          "name": "stdout",
          "output_type": "stream",
          "text": [
            "Dataset shape after dropping missing values: (4806, 7)\n"
          ]
        }
      ],
      "source": [
        "# Drop rows with missing values\n",
        "movies = movies.dropna()\n",
        "print(f\"Dataset shape after dropping missing values: {movies.shape}\")\n"
      ]
    },
    {
      "cell_type": "code",
      "execution_count": 7,
      "metadata": {},
      "outputs": [],
      "source": [
        "# Helper function to convert string representation of list to Python list\n",
        "def convert(text):\n",
        "    try:\n",
        "        return ast.literal_eval(text)\n",
        "    except:\n",
        "        return []  # Return empty list if parsing fails\n",
        "\n",
        "# Parse stringified lists/dictionaries\n",
        "movies['genres'] = movies['genres'].apply(convert)\n",
        "movies['keywords'] = movies['keywords'].apply(convert)\n",
        "movies['cast'] = movies['cast'].apply(convert)\n",
        "movies['crew'] = movies['crew'].apply(convert)\n"
      ]
    },
    {
      "cell_type": "raw",
      "metadata": {
        "vscode": {
          "languageId": "raw"
        }
      },
      "source": [
        "## Feature Engineering\n",
        "\n",
        "Now we'll extract the relevant information from each feature and create a consolidated tag for each movie.\n"
      ]
    },
    {
      "cell_type": "code",
      "execution_count": 8,
      "metadata": {},
      "outputs": [],
      "source": [
        "# Extract genre names\n",
        "def extract_genres(genres_list):\n",
        "    return [genre['name'].lower().replace(' ', '') for genre in genres_list]\n",
        "\n",
        "# Extract keywords\n",
        "def extract_keywords(keywords_list):\n",
        "    return [keyword['name'].lower().replace(' ', '') for keyword in keywords_list]\n",
        "\n",
        "# Extract top 3 cast members\n",
        "def extract_cast(cast_list):\n",
        "    top_cast = []\n",
        "    for i, cast in enumerate(cast_list):\n",
        "        if i < 3:  # Only include top 3 cast members\n",
        "            top_cast.append(cast['name'].lower().replace(' ', ''))\n",
        "        else:\n",
        "            break\n",
        "    return top_cast\n",
        "\n",
        "# Extract director\n",
        "def extract_director(crew_list):\n",
        "    directors = []\n",
        "    for crew_member in crew_list:\n",
        "        if crew_member['job'] == 'Director':\n",
        "            directors.append(crew_member['name'].lower().replace(' ', ''))\n",
        "    return directors\n",
        "\n",
        "# Apply extraction functions\n",
        "movies['genres'] = movies['genres'].apply(extract_genres)\n",
        "movies['keywords'] = movies['keywords'].apply(extract_keywords)\n",
        "movies['cast'] = movies['cast'].apply(extract_cast)\n",
        "movies['crew'] = movies['crew'].apply(extract_director)\n"
      ]
    },
    {
      "cell_type": "code",
      "execution_count": 9,
      "metadata": {},
      "outputs": [
        {
          "data": {
            "text/html": [
              "<div>\n",
              "<style scoped>\n",
              "    .dataframe tbody tr th:only-of-type {\n",
              "        vertical-align: middle;\n",
              "    }\n",
              "\n",
              "    .dataframe tbody tr th {\n",
              "        vertical-align: top;\n",
              "    }\n",
              "\n",
              "    .dataframe thead th {\n",
              "        text-align: right;\n",
              "    }\n",
              "</style>\n",
              "<table border=\"1\" class=\"dataframe\">\n",
              "  <thead>\n",
              "    <tr style=\"text-align: right;\">\n",
              "      <th></th>\n",
              "      <th>title</th>\n",
              "      <th>genres</th>\n",
              "      <th>keywords</th>\n",
              "      <th>cast</th>\n",
              "      <th>crew</th>\n",
              "    </tr>\n",
              "  </thead>\n",
              "  <tbody>\n",
              "    <tr>\n",
              "      <th>0</th>\n",
              "      <td>Avatar</td>\n",
              "      <td>[action, adventure, fantasy, sciencefiction]</td>\n",
              "      <td>[cultureclash, future, spacewar, spacecolony, ...</td>\n",
              "      <td>[samworthington, zoesaldana, sigourneyweaver]</td>\n",
              "      <td>[jamescameron]</td>\n",
              "    </tr>\n",
              "    <tr>\n",
              "      <th>1</th>\n",
              "      <td>Pirates of the Caribbean: At World's End</td>\n",
              "      <td>[adventure, fantasy, action]</td>\n",
              "      <td>[ocean, drugabuse, exoticisland, eastindiatrad...</td>\n",
              "      <td>[johnnydepp, orlandobloom, keiraknightley]</td>\n",
              "      <td>[goreverbinski]</td>\n",
              "    </tr>\n",
              "  </tbody>\n",
              "</table>\n",
              "</div>"
            ],
            "text/plain": [
              "                                      title  \\\n",
              "0                                    Avatar   \n",
              "1  Pirates of the Caribbean: At World's End   \n",
              "\n",
              "                                         genres  \\\n",
              "0  [action, adventure, fantasy, sciencefiction]   \n",
              "1                  [adventure, fantasy, action]   \n",
              "\n",
              "                                            keywords  \\\n",
              "0  [cultureclash, future, spacewar, spacecolony, ...   \n",
              "1  [ocean, drugabuse, exoticisland, eastindiatrad...   \n",
              "\n",
              "                                            cast             crew  \n",
              "0  [samworthington, zoesaldana, sigourneyweaver]   [jamescameron]  \n",
              "1     [johnnydepp, orlandobloom, keiraknightley]  [goreverbinski]  "
            ]
          },
          "execution_count": 9,
          "metadata": {},
          "output_type": "execute_result"
        }
      ],
      "source": [
        "# Preview the extracted features\n",
        "movies[['title', 'genres', 'keywords', 'cast', 'crew']].head(2)\n"
      ]
    },
    {
      "cell_type": "code",
      "execution_count": 10,
      "metadata": {},
      "outputs": [
        {
          "data": {
            "text/html": [
              "<div>\n",
              "<style scoped>\n",
              "    .dataframe tbody tr th:only-of-type {\n",
              "        vertical-align: middle;\n",
              "    }\n",
              "\n",
              "    .dataframe tbody tr th {\n",
              "        vertical-align: top;\n",
              "    }\n",
              "\n",
              "    .dataframe thead th {\n",
              "        text-align: right;\n",
              "    }\n",
              "</style>\n",
              "<table border=\"1\" class=\"dataframe\">\n",
              "  <thead>\n",
              "    <tr style=\"text-align: right;\">\n",
              "      <th></th>\n",
              "      <th>title</th>\n",
              "      <th>tags</th>\n",
              "    </tr>\n",
              "  </thead>\n",
              "  <tbody>\n",
              "    <tr>\n",
              "      <th>0</th>\n",
              "      <td>Avatar</td>\n",
              "      <td>action adventure fantasy sciencefiction cultur...</td>\n",
              "    </tr>\n",
              "    <tr>\n",
              "      <th>1</th>\n",
              "      <td>Pirates of the Caribbean: At World's End</td>\n",
              "      <td>adventure fantasy action ocean drugabuse exoti...</td>\n",
              "    </tr>\n",
              "  </tbody>\n",
              "</table>\n",
              "</div>"
            ],
            "text/plain": [
              "                                      title  \\\n",
              "0                                    Avatar   \n",
              "1  Pirates of the Caribbean: At World's End   \n",
              "\n",
              "                                                tags  \n",
              "0  action adventure fantasy sciencefiction cultur...  \n",
              "1  adventure fantasy action ocean drugabuse exoti...  "
            ]
          },
          "execution_count": 10,
          "metadata": {},
          "output_type": "execute_result"
        }
      ],
      "source": [
        "# Create tags by combining all features\n",
        "def create_tags(row):\n",
        "    # Process overview text\n",
        "    overview = row['overview'].lower() if isinstance(row['overview'], str) else ''\n",
        "    overview_words = overview.split()\n",
        "    # Keep only longer words that might be more meaningful\n",
        "    overview_words = [word for word in overview_words if len(word) > 4]\n",
        "    overview = ' '.join(overview_words)\n",
        "    \n",
        "    # Combine all features with appropriate weights (repeating important features)\n",
        "    return ' '.join(row['genres']) + ' ' + \\\n",
        "           ' '.join(row['keywords']) + ' ' + \\\n",
        "           ' '.join(row['cast']) + ' ' + \\\n",
        "           ' '.join(row['cast']) + ' ' + \\\n",
        "           ' '.join(row['crew']) + ' ' + \\\n",
        "           ' '.join(row['crew']) + ' ' + \\\n",
        "           overview\n",
        "\n",
        "movies['tags'] = movies.apply(create_tags, axis=1)\n",
        "\n",
        "# Display the tags for a few movies\n",
        "movies[['title', 'tags']].head(2)\n"
      ]
    },
    {
      "cell_type": "raw",
      "metadata": {
        "vscode": {
          "languageId": "raw"
        }
      },
      "source": [
        "## Vectorization and Similarity Computation\n",
        "\n",
        "We'll convert the tags into vectors using CountVectorizer and compute a cosine similarity matrix.\n"
      ]
    },
    {
      "cell_type": "code",
      "execution_count": 11,
      "metadata": {},
      "outputs": [
        {
          "name": "stdout",
          "output_type": "stream",
          "text": [
            "Shape of vectors: (4806, 5000)\n"
          ]
        }
      ],
      "source": [
        "# Keep only required columns for recommendation\n",
        "movies_final = movies[['movie_id', 'title', 'tags']]\n",
        "\n",
        "# Vectorize the tags\n",
        "cv = CountVectorizer(max_features=5000, stop_words='english')\n",
        "vectors = cv.fit_transform(movies_final['tags']).toarray()\n",
        "\n",
        "# Check the shape of vectors\n",
        "print(f\"Shape of vectors: {vectors.shape}\")\n"
      ]
    },
    {
      "cell_type": "code",
      "execution_count": 12,
      "metadata": {},
      "outputs": [
        {
          "name": "stdout",
          "output_type": "stream",
          "text": [
            "Shape of similarity matrix: (4806, 4806)\n"
          ]
        }
      ],
      "source": [
        "# Calculate cosine similarity matrix\n",
        "similarity = cosine_similarity(vectors)\n",
        "\n",
        "# Print the shape of similarity matrix\n",
        "print(f\"Shape of similarity matrix: {similarity.shape}\")\n"
      ]
    },
    {
      "cell_type": "raw",
      "metadata": {
        "vscode": {
          "languageId": "raw"
        }
      },
      "source": [
        "## Recommendation Function\n",
        "\n",
        "Now we'll create a function that recommends similar movies based on a given movie title.\n"
      ]
    },
    {
      "cell_type": "code",
      "execution_count": 13,
      "metadata": {},
      "outputs": [],
      "source": [
        "# Create a Series of movie titles for easy lookup\n",
        "movie_titles = pd.Series(movies_final['title'].values, index=movies_final.index)\n"
      ]
    },
    {
      "cell_type": "code",
      "execution_count": 14,
      "metadata": {},
      "outputs": [
        {
          "name": "stdout",
          "output_type": "stream",
          "text": [
            "['The Dark Knight Rises' 'Batman Begins' 'Batman Returns' 'Batman Forever'\n",
            " 'Batman']\n"
          ]
        }
      ],
      "source": [
        "def get_recommendations(title, num_recommendations=5):\n",
        "    try:\n",
        "        # Find the index of the movie in our dataset\n",
        "        idx = movies_final[movies_final['title'] == title].index[0]\n",
        "        \n",
        "        # Get similarity scores for all movies with this one\n",
        "        similarity_scores = list(enumerate(similarity[idx]))\n",
        "        \n",
        "        # Sort by similarity score (highest first)\n",
        "        similarity_scores = sorted(similarity_scores, key=lambda x: x[1], reverse=True)\n",
        "        \n",
        "        # Get top N similar movies (excluding the movie itself)\n",
        "        similarity_scores = similarity_scores[1:num_recommendations+1]\n",
        "        \n",
        "        # Get movie indices\n",
        "        movie_indices = [i[0] for i in similarity_scores]\n",
        "        \n",
        "        # Return movie titles\n",
        "        return movies_final['title'].iloc[movie_indices].values\n",
        "    except IndexError:\n",
        "        return [\"Movie not found in database. Please check the title and try again.\"]\n",
        "\n",
        "# Test the recommendation function\n",
        "print(get_recommendations('The Dark Knight'))\n"
      ]
    },
    {
      "cell_type": "raw",
      "metadata": {
        "vscode": {
          "languageId": "raw"
        }
      },
      "source": [
        "## Interactive UI with ipywidgets\n",
        "\n",
        "Now we'll create an interactive UI using ipywidgets that allows users to select a movie and get recommendations.\n"
      ]
    },
    {
      "cell_type": "code",
      "execution_count": null,
      "metadata": {},
      "outputs": [
        {
          "data": {
            "application/vnd.jupyter.widget-view+json": {
              "model_id": "c5f66b27e654489a8cbdf0a4fccd3594",
              "version_major": 2,
              "version_minor": 0
            },
            "text/plain": [
              "VBox(children=(HTML(value='<h2>Movie Recommendation System</h2>'), HTML(value='<p>Select a movie from the drop…"
            ]
          },
          "metadata": {},
          "output_type": "display_data"
        }
      ],
      "source": [
        "# Create a dropdown widget with all movie titles\n",
        "try:\n",
        "    # Try using ipywidgets for interactive UI\n",
        "    movie_dropdown = widgets.Dropdown(\n",
        "        options=sorted(movies_final['title'].tolist()),\n",
        "        description='Select Movie:',\n",
        "        style={'description_width': 'initial'},\n",
        "        layout=widgets.Layout(width='80%')\n",
        "    )\n",
        "\n",
        "    # Slider for number of recommendations\n",
        "    num_recommendations = widgets.IntSlider(\n",
        "        min=1,\n",
        "        max=10,\n",
        "        step=1,\n",
        "        value=5,\n",
        "        description='Number of recommendations:',\n",
        "        style={'description_width': 'initial'}\n",
        "    )\n",
        "\n",
        "    # Create a button to trigger recommendations\n",
        "    recommend_button = widgets.Button(\n",
        "        description='Get Recommendations',\n",
        "        button_style='success',\n",
        "        tooltip='Click to get movie recommendations'\n",
        "    )\n",
        "\n",
        "    # Create an output widget to display results\n",
        "    output = widgets.Output()\n",
        "\n",
        "    # Style for the result boxes\n",
        "    box_style = \"\"\"\n",
        "    <style>\n",
        "    .movie-box {\n",
        "        padding: 10px;\n",
        "        margin: 5px;\n",
        "        background-color: #f0f0f0;\n",
        "        border-radius: 5px;\n",
        "        border: 1px solid #ddd;\n",
        "    }\n",
        "    .movie-title {\n",
        "        font-weight: bold;\n",
        "        font-size: 16px;\n",
        "    }\n",
        "    .recommendation-header {\n",
        "        font-size: 18px;\n",
        "        font-weight: bold;\n",
        "        margin-bottom: 10px;\n",
        "    }\n",
        "    </style>\n",
        "    \"\"\"\n",
        "\n",
        "    # Function to handle button click\n",
        "    def on_button_click(b):\n",
        "        with output:\n",
        "            clear_output()\n",
        "            display(widgets.HTML(box_style))\n",
        "            \n",
        "            selected_movie = movie_dropdown.value\n",
        "            num_recs = num_recommendations.value\n",
        "            \n",
        "            if not selected_movie:\n",
        "                print(\"Please select a movie from the dropdown.\")\n",
        "                return\n",
        "            \n",
        "            recommendations = get_recommendations(selected_movie, num_recs)\n",
        "            \n",
        "            display(widgets.HTML(f\"<div class='recommendation-header'>Top {num_recs} Movies Similar to '{selected_movie}':</div>\"))\n",
        "            \n",
        "            if \"Movie not found\" in recommendations[0]:\n",
        "                display(widgets.HTML(f\"<div class='movie-box'>{recommendations[0]}</div>\"))\n",
        "            else:\n",
        "                for i, title in enumerate(recommendations, 1):\n",
        "                    display(widgets.HTML(f\"<div class='movie-box'><span class='movie-title'>{i}. {title}</span></div>\"))\n",
        "\n",
        "    # Attach the click handler to the button\n",
        "    recommend_button.on_click(on_button_click)\n",
        "\n",
        "    # Display the UI\n",
        "    display(widgets.VBox([\n",
        "        widgets.HTML(\"<h2>Movie Recommendation System</h2>\"),\n",
        "        widgets.HTML(\"<p>Select a movie from the dropdown and click the button to get similar movie recommendations.</p>\"),\n",
        "        movie_dropdown,\n",
        "        num_recommendations,\n",
        "        recommend_button,\n",
        "        output\n",
        "    ]))\n",
        "    \n",
        "except Exception as e:\n",
        "    print(f\"ipywidgets error: {e}\")\n",
        "    print(\"\\nFalling back to basic input method...\\n\")\n",
        "    \n",
        "    # Alternative: Use basic Python input for movie selection\n",
        "    print(\"Movie Recommendation System\")\n",
        "    print(\"==========================\\n\")\n",
        "    \n",
        "    # Display first 5 movies as examples\n",
        "    print(\"Example movies in the database:\")\n",
        "    for i, title in enumerate(sorted(movies_final['title'].tolist())[:5], 1):\n",
        "        print(f\"{i}. {title}\")\n",
        "    print(\"... and many more!\\n\")\n",
        "    \n",
        "    # Get user input\n",
        "    movie_title = input(\"Enter a movie title: \")\n",
        "    num_recs = 5\n",
        "    \n",
        "    try:\n",
        "        num_recs_input = input(\"Enter number of recommendations (1-10) [default=5]: \")\n",
        "        if num_recs_input.strip():\n",
        "            num_recs = int(num_recs_input)\n",
        "            num_recs = max(1, min(num_recs, 10))  # Keep between 1-10\n",
        "    except:\n",
        "        num_recs = 5\n",
        "        \n",
        "    # Get and display recommendations\n",
        "    recommendations = get_recommendations(movie_title, num_recs)\n",
        "    \n",
        "    print(f\"\\nTop {num_recs} Movies Similar to '{movie_title}':\")\n",
        "    print(\"=\"*(20 + len(movie_title)))\n",
        "    \n",
        "    if \"Movie not found\" in recommendations[0]:\n",
        "        print(recommendations[0])\n",
        "    else:\n",
        "        for i, title in enumerate(recommendations, 1):\n",
        "            print(f\"{i}. {title}\")\n"
      ]
    },
    {
      "cell_type": "raw",
      "metadata": {
        "vscode": {
          "languageId": "raw"
        }
      },
      "source": [
        "## Save & Load Model (Optional)\n",
        "\n",
        "Optionally, we can save our model components for later use.\n"
      ]
    },
    {
      "cell_type": "code",
      "execution_count": 16,
      "metadata": {},
      "outputs": [
        {
          "name": "stdout",
          "output_type": "stream",
          "text": [
            "Model components saved successfully!\n"
          ]
        }
      ],
      "source": [
        "# Save model components\n",
        "pickle.dump(movies_final, open('movies_data.pkl', 'wb'))\n",
        "pickle.dump(similarity, open('similarity_matrix.pkl', 'wb'))\n",
        "\n",
        "print(\"Model components saved successfully!\")\n"
      ]
    },
    {
      "cell_type": "code",
      "execution_count": 17,
      "metadata": {},
      "outputs": [],
      "source": [
        "# Example of loading saved model components\n",
        "# Uncomment the code below to load the saved model components\n",
        "\n",
        "# loaded_movies = pickle.load(open('movies_data.pkl', 'rb'))\n",
        "# loaded_similarity = pickle.load(open('similarity_matrix.pkl', 'rb'))\n",
        "# print(\"Model components loaded successfully!\")\n"
      ]
    },
    {
      "cell_type": "raw",
      "metadata": {
        "vscode": {
          "languageId": "raw"
        }
      },
      "source": [
        "## Conclusion\n",
        "\n",
        "This notebook has demonstrated how to build a content-based movie recommendation system with an interactive UI. The system analyzes movie features such as genres, keywords, cast, and crew to find movies with similar characteristics.\n",
        "\n",
        "To use the system:\n",
        "1. Select a movie from the dropdown menu\n",
        "2. Choose how many recommendations you want\n",
        "3. Click \"Get Recommendations\" to see similar movies\n",
        "\n",
        "This approach can be extended by:\n",
        "- Adding more features like movie ratings or release dates\n",
        "- Incorporating user preferences for personalized recommendations\n",
        "- Using more advanced NLP techniques for better text processing\n",
        "- Adding movie posters or additional information in the UI\n"
      ]
    }
  ],
  "metadata": {
    "kernelspec": {
      "display_name": "Python 3",
      "language": "python",
      "name": "python3"
    },
    "language_info": {
      "codemirror_mode": {
        "name": "ipython",
        "version": 3
      },
      "file_extension": ".py",
      "mimetype": "text/x-python",
      "name": "python",
      "nbconvert_exporter": "python",
      "pygments_lexer": "ipython3",
      "version": "3.12.1"
    }
  },
  "nbformat": 4,
  "nbformat_minor": 2
}
